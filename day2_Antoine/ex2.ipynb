{
 "cells": [
  {
   "cell_type": "code",
   "execution_count": 20,
   "metadata": {},
   "outputs": [],
   "source": [
    "#ex 2.1\n",
    "\n",
    "def fasta_parsing(file_name):\n",
    "    with open(file_name, 'r') as file_obj:\n",
    "        first_char = file_obj.read(1) #récupère premier charactère\n",
    "        if first_char == '>':\n",
    "            seq_name = file_obj.readline()\n",
    "        seq = file_obj.read() #récupère tout le reste? fichier\n",
    "        seq = seq.replace('\\n','')\n",
    "    return seq_name.strip(), seq"
   ]
  },
  {
   "cell_type": "code",
   "execution_count": null,
   "metadata": {},
   "outputs": [],
   "source": [
    "print(fasta_parsing('data/salmonella_spi1_region.fna'))"
   ]
  },
  {
   "cell_type": "code",
   "execution_count": 10,
   "metadata": {},
   "outputs": [
    {
     "name": "stdout",
     "output_type": "stream",
     "text": [
      "Restriction site for : HindIII\n",
      "[23130, 25157, 27479, 36895, 37459, 37584, 44141]\n",
      "Restriction site for : EcoRI\n",
      "[21226, 26104, 31747, 39168, 44972]\n",
      "Restriction site for : KpnI\n",
      "[17053, 18556]\n"
     ]
    }
   ],
   "source": [
    "#ex2.2\n",
    "\n",
    "seq_name, seq = fasta_parsing('data/lambda_neb.fasta')\n",
    "\n",
    "rest_enzyme_dic = {\n",
    "    'HindIII' : 'AAGCTT',\n",
    "    'EcoRI' : 'GAATTC',\n",
    "    'KpnI' : 'GGTACC'\n",
    "}\n",
    "\n",
    "def restriction_sites(seq, recoq_seq):\n",
    "    rest_sites = []\n",
    "    len_recoq_seq = len(recoq_seq)\n",
    "    len_seq = len(seq)\n",
    "    nb_recoq = seq.count(recoq_seq)\n",
    "    for i in range(nb_recoq):\n",
    "        #+1 because NEB count starting from 1 (not 0)\n",
    "        pos_rest_site = seq.find(recoq_seq)+1\n",
    "        if(len(rest_sites) == 0):\n",
    "            rest_sites.append(pos_rest_site)\n",
    "        else:\n",
    "            rest_sites.append(rest_sites[-1] + pos_rest_site + len_recoq_seq)\n",
    "        seq = seq[pos_rest_site + len_recoq_seq:]\n",
    "    return rest_sites\n",
    "\n",
    "for key, value in rest_enzyme_dic.items():\n",
    "    print(f\"Restriction site for : {key}\")\n",
    "    print(restriction_sites(seq, value))\n",
    "        "
   ]
  },
  {
   "cell_type": "code",
   "execution_count": null,
   "metadata": {},
   "outputs": [],
   "source": [
    "#ex 1.3\n",
    "\n"
   ]
  }
 ],
 "metadata": {
  "kernelspec": {
   "display_name": "Python 3",
   "language": "python",
   "name": "python3"
  },
  "language_info": {
   "codemirror_mode": {
    "name": "ipython",
    "version": 3
   },
   "file_extension": ".py",
   "mimetype": "text/x-python",
   "name": "python",
   "nbconvert_exporter": "python",
   "pygments_lexer": "ipython3",
   "version": "3.7.3"
  }
 },
 "nbformat": 4,
 "nbformat_minor": 2
}
