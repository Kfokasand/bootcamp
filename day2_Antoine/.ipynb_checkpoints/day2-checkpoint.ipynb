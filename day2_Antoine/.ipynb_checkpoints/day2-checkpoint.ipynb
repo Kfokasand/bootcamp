{
 "cells": [
  {
   "cell_type": "code",
   "execution_count": 13,
   "metadata": {},
   "outputs": [],
   "source": [
    "my_dic = {'Katerina' : 6,\n",
    "          'Margaux' : 5,\n",
    "          'Antoine' : 3,\n",
    "          'Laura' : 2}"
   ]
  },
  {
   "cell_type": "code",
   "execution_count": 12,
   "metadata": {},
   "outputs": [
    {
     "name": "stdout",
     "output_type": "stream",
     "text": [
      "Kat obtained 6 at the last exam\n",
      "Margaux obtained 5 at the last exam\n",
      "Antoine obtained 3 at the last exam\n",
      "Laura obtained 2 at the last exam\n"
     ]
    }
   ],
   "source": [
    "for key, value in my_dic.items():\n",
    "    name, note = key, value\n",
    "    print(f'{name} obtained {note} at the last exam')"
   ]
  },
  {
   "cell_type": "code",
   "execution_count": 18,
   "metadata": {},
   "outputs": [
    {
     "name": "stdout",
     "output_type": "stream",
     "text": [
      "test1\n",
      "test2\n"
     ]
    }
   ],
   "source": [
    "#splat!!!\n",
    "#*tuple permet de \"développer\" le tuple et de transformer chacune de ses valeurs en un argument (pour passer aux fonction)\n",
    "\n",
    "def zut(**kwargs):\n",
    "    #kwargs stands for other keyboard arguments, will be converted into a dict, allows arbitrary number of arguments\n",
    "    for key, value in kwargs.items():\n",
    "        print (value)\n",
    "        \n",
    "zut(e='test1', f='test2')"
   ]
  },
  {
   "cell_type": "code",
   "execution_count": 2,
   "metadata": {},
   "outputs": [],
   "source": [
    "import os\n",
    "import glob"
   ]
  },
  {
   "cell_type": "code",
   "execution_count": 5,
   "metadata": {},
   "outputs": [
    {
     "name": "stdout",
     "output_type": "stream",
     "text": [
      "<class '_io.TextIOWrapper'>\n"
     ]
    }
   ],
   "source": [
    "with open('data/1OLG.pdb', 'r') as f:\n",
    "    print(type(f))"
   ]
  },
  {
   "cell_type": "code",
   "execution_count": 9,
   "metadata": {},
   "outputs": [
    {
     "ename": "RuntimeError",
     "evalue": "dummy.txt already exists.",
     "output_type": "error",
     "traceback": [
      "\u001b[0;31m---------------------------------------------------------------------------\u001b[0m",
      "\u001b[0;31mRuntimeError\u001b[0m                              Traceback (most recent call last)",
      "\u001b[0;32m<ipython-input-9-dc51d7144a20>\u001b[0m in \u001b[0;36m<module>\u001b[0;34m\u001b[0m\n\u001b[1;32m      1\u001b[0m \u001b[0mfilename\u001b[0m \u001b[0;34m=\u001b[0m \u001b[0;34m\"dummy.txt\"\u001b[0m\u001b[0;34m\u001b[0m\u001b[0;34m\u001b[0m\u001b[0m\n\u001b[1;32m      2\u001b[0m \u001b[0;32mif\u001b[0m \u001b[0mos\u001b[0m\u001b[0;34m.\u001b[0m\u001b[0mpath\u001b[0m\u001b[0;34m.\u001b[0m\u001b[0misfile\u001b[0m\u001b[0;34m(\u001b[0m\u001b[0mfilename\u001b[0m\u001b[0;34m)\u001b[0m\u001b[0;34m:\u001b[0m\u001b[0;34m\u001b[0m\u001b[0;34m\u001b[0m\u001b[0m\n\u001b[0;32m----> 3\u001b[0;31m     \u001b[0;32mraise\u001b[0m \u001b[0mRuntimeError\u001b[0m\u001b[0;34m(\u001b[0m\u001b[0;34mf'{filename} already exists.'\u001b[0m\u001b[0;34m)\u001b[0m\u001b[0;34m\u001b[0m\u001b[0;34m\u001b[0m\u001b[0m\n\u001b[0m\u001b[1;32m      4\u001b[0m \u001b[0;32mwith\u001b[0m \u001b[0mopen\u001b[0m\u001b[0;34m(\u001b[0m\u001b[0mfilename\u001b[0m\u001b[0;34m,\u001b[0m \u001b[0;34m'w'\u001b[0m\u001b[0;34m)\u001b[0m \u001b[0;32mas\u001b[0m \u001b[0mf\u001b[0m\u001b[0;34m:\u001b[0m\u001b[0;34m\u001b[0m\u001b[0;34m\u001b[0m\u001b[0m\n\u001b[1;32m      5\u001b[0m     \u001b[0mf\u001b[0m\u001b[0;34m.\u001b[0m\u001b[0mwrite\u001b[0m\u001b[0;34m(\u001b[0m\u001b[0;34mf'Blablabla'\u001b[0m\u001b[0;34m)\u001b[0m\u001b[0;34m\u001b[0m\u001b[0;34m\u001b[0m\u001b[0m\n",
      "\u001b[0;31mRuntimeError\u001b[0m: dummy.txt already exists."
     ]
    }
   ],
   "source": [
    "filename = \"dummy.txt\"\n",
    "#check if the file doesn't exist (avoid nuclear problem)\n",
    "if os.path.isfile(filename):\n",
    "    raise RuntimeError(f'{filename} already exists.')\n",
    "with open(filename, 'w') as f:\n",
    "    f.write(f'Blablabla')"
   ]
  },
  {
   "cell_type": "code",
   "execution_count": 4,
   "metadata": {},
   "outputs": [
    {
     "name": "stderr",
     "output_type": "stream",
     "text": [
      "/usr/lib/python3.7/site-packages/ipykernel_launcher.py:6: UserWarning: Failed to load gc_content.\n",
      "  \n"
     ]
    }
   ],
   "source": [
    "import warnings\n",
    "\n",
    "#permet d'envoyer un message à l'utilisateur, gérer les excpetions/erreurs\n",
    "try:\n",
    "    import gc_content\n",
    "    have_gc = True\n",
    "except ImportError as e:\n",
    "    have_gc = False\n",
    "    warnings.warn('Failed to load gc_content.', UserWarning)\n",
    "finally:\n",
    "    #Do whatever\n",
    "    pass"
   ]
  },
  {
   "cell_type": "code",
   "execution_count": 5,
   "metadata": {},
   "outputs": [],
   "source": [
    "import bootcamp_utils"
   ]
  },
  {
   "cell_type": "code",
   "execution_count": 11,
   "metadata": {},
   "outputs": [
    {
     "ename": "RuntimeError",
     "evalue": "Z is not valid.",
     "output_type": "error",
     "traceback": [
      "\u001b[0;31m---------------------------------------------------------------------------\u001b[0m",
      "\u001b[0;31mRuntimeError\u001b[0m                              Traceback (most recent call last)",
      "\u001b[0;32m<ipython-input-11-8ea8f972538d>\u001b[0m in \u001b[0;36m<module>\u001b[0;34m\u001b[0m\n\u001b[1;32m      9\u001b[0m \u001b[0;34m\u001b[0m\u001b[0m\n\u001b[1;32m     10\u001b[0m \u001b[0mone_to_three\u001b[0m\u001b[0;34m(\u001b[0m\u001b[0;34m'WKLLKMAA'\u001b[0m\u001b[0;34m)\u001b[0m\u001b[0;34m\u001b[0m\u001b[0;34m\u001b[0m\u001b[0m\n\u001b[0;32m---> 11\u001b[0;31m \u001b[0mone_to_three\u001b[0m\u001b[0;34m(\u001b[0m\u001b[0;34m'WKLZKMAA'\u001b[0m\u001b[0;34m)\u001b[0m\u001b[0;34m\u001b[0m\u001b[0;34m\u001b[0m\u001b[0m\n\u001b[0m",
      "\u001b[0;32m<ipython-input-11-8ea8f972538d>\u001b[0m in \u001b[0;36mone_to_three\u001b[0;34m(seq)\u001b[0m\n\u001b[1;32m      4\u001b[0m     \u001b[0;32mfor\u001b[0m \u001b[0mam_ac\u001b[0m \u001b[0;32min\u001b[0m \u001b[0mseq\u001b[0m\u001b[0;34m:\u001b[0m\u001b[0;34m\u001b[0m\u001b[0;34m\u001b[0m\u001b[0m\n\u001b[1;32m      5\u001b[0m         \u001b[0;32mif\u001b[0m \u001b[0mam_ac\u001b[0m \u001b[0;32mnot\u001b[0m \u001b[0;32min\u001b[0m \u001b[0mbootcamp_utils\u001b[0m\u001b[0;34m.\u001b[0m\u001b[0maa\u001b[0m\u001b[0;34m:\u001b[0m\u001b[0;34m\u001b[0m\u001b[0;34m\u001b[0m\u001b[0m\n\u001b[0;32m----> 6\u001b[0;31m             \u001b[0;32mraise\u001b[0m \u001b[0mRuntimeError\u001b[0m\u001b[0;34m(\u001b[0m\u001b[0;34mf'{am_ac} is not valid.'\u001b[0m\u001b[0;34m)\u001b[0m\u001b[0;34m\u001b[0m\u001b[0;34m\u001b[0m\u001b[0m\n\u001b[0m\u001b[1;32m      7\u001b[0m         \u001b[0maa_list\u001b[0m\u001b[0;34m.\u001b[0m\u001b[0mappend\u001b[0m\u001b[0;34m(\u001b[0m\u001b[0mbootcamp_utils\u001b[0m\u001b[0;34m.\u001b[0m\u001b[0maa\u001b[0m\u001b[0;34m[\u001b[0m\u001b[0mam_ac\u001b[0m\u001b[0;34m]\u001b[0m\u001b[0;34m)\u001b[0m\u001b[0;34m\u001b[0m\u001b[0;34m\u001b[0m\u001b[0m\n\u001b[1;32m      8\u001b[0m     \u001b[0;32mreturn\u001b[0m \u001b[0;34m'-'\u001b[0m\u001b[0;34m.\u001b[0m\u001b[0mjoin\u001b[0m\u001b[0;34m(\u001b[0m\u001b[0maa_list\u001b[0m\u001b[0;34m)\u001b[0m\u001b[0;34m\u001b[0m\u001b[0;34m\u001b[0m\u001b[0m\n",
      "\u001b[0;31mRuntimeError\u001b[0m: Z is not valid."
     ]
    }
   ],
   "source": [
    "def one_to_three(seq):\n",
    "    seq = seq.upper()\n",
    "    aa_list =[]\n",
    "    for am_ac in seq:\n",
    "        if am_ac not in bootcamp_utils.aa:\n",
    "            #important to have descriptive error message (use {} and f' string)\n",
    "            raise RuntimeError(f'{am_ac} is not valid.')\n",
    "        aa_list.append(bootcamp_utils.aa[am_ac])\n",
    "    return '-'.join(aa_list)\n",
    "\n",
    "\n",
    "one_to_three('WKLLKMAA')\n",
    "one_to_three('WKLZKMAA')"
   ]
  },
  {
   "cell_type": "code",
   "execution_count": 23,
   "metadata": {},
   "outputs": [],
   "source": [
    "#test driven development, part of defensive programming : \"code \n",
    "#in a manner to protect yourself from errors\"\n",
    "\n",
    "#start from specification: what is input/output\n",
    "#define test in order to accomplish theses specification\n",
    "#at the beggining, no test is passing\n",
    "#you keep coding until all the tests pass!\n",
    "\n",
    "def numbers_negatives(seq):\n",
    "    \"\"\"Number of negative residues in a protein sequence\"\"\"\n",
    "    seq = seq.upper()\n",
    "    return seq.count('D') + seq.count('E')"
   ]
  },
  {
   "cell_type": "code",
   "execution_count": 26,
   "metadata": {},
   "outputs": [],
   "source": [
    "def test_number_negatives():\n",
    "    assert numbers_negatives('E') == 1\n",
    "    assert numbers_negatives('D') == 1, 'failed with sequence \"D\"'\n",
    "    assert numbers_negatives('ACKLWTTAE') == 1\n",
    "    assert numbers_negatives('DDDDEEEE') == 8\n",
    "    #edge case, extrem situation, must agree on a behaviour,\n",
    "    #let's say it returns 0\n",
    "    assert numbers_negatives('') == 0\n",
    "    assert numbers_negatives('acklwttae') == 1\n",
    "    #assert soulève une erreur si le test renvoit false, à utiliser SEULEMENT\n",
    "    #pour les tests. Possible de mettre un message à la suite du test"
   ]
  },
  {
   "cell_type": "code",
   "execution_count": 27,
   "metadata": {},
   "outputs": [],
   "source": [
    "test_number_negatives()"
   ]
  },
  {
   "cell_type": "code",
   "execution_count": 28,
   "metadata": {},
   "outputs": [],
   "source": [
    "#Installer pytest avec anaconda, c'est un package d'utilitaire qui détecte les\n",
    "#fonction qui commencent par \"test\", les execute, permet d'automatiser les tests"
   ]
  },
  {
   "cell_type": "code",
   "execution_count": 29,
   "metadata": {},
   "outputs": [],
   "source": [
    "import jb_bootcamp"
   ]
  },
  {
   "cell_type": "code",
   "execution_count": 30,
   "metadata": {},
   "outputs": [
    {
     "ename": "ImportError",
     "evalue": "cannot import name 'aa_utils' from 'jb_bootcamp' (/home/toinou/Documents/git/bootcamp/modules/jb_bootcamp/jb_bootcamp/__init__.py)",
     "output_type": "error",
     "traceback": [
      "\u001b[0;31m---------------------------------------------------------------------------\u001b[0m",
      "\u001b[0;31mImportError\u001b[0m                               Traceback (most recent call last)",
      "\u001b[0;32m<ipython-input-30-2f92398e6bd3>\u001b[0m in \u001b[0;36m<module>\u001b[0;34m\u001b[0m\n\u001b[0;32m----> 1\u001b[0;31m \u001b[0;32mfrom\u001b[0m \u001b[0mjb_bootcamp\u001b[0m \u001b[0;32mimport\u001b[0m \u001b[0maa_utils\u001b[0m\u001b[0;34m\u001b[0m\u001b[0;34m\u001b[0m\u001b[0m\n\u001b[0m",
      "\u001b[0;31mImportError\u001b[0m: cannot import name 'aa_utils' from 'jb_bootcamp' (/home/toinou/Documents/git/bootcamp/modules/jb_bootcamp/jb_bootcamp/__init__.py)"
     ]
    }
   ],
   "source": [
    "from jb_bootcamp import aa_utils"
   ]
  },
  {
   "cell_type": "code",
   "execution_count": 31,
   "metadata": {},
   "outputs": [],
   "source": [
    "import bootcamp_utils"
   ]
  },
  {
   "cell_type": "code",
   "execution_count": 32,
   "metadata": {},
   "outputs": [
    {
     "data": {
      "text/plain": [
       "{'A': 'Ala',\n",
       " 'R': 'Arg',\n",
       " 'N': 'Asn',\n",
       " 'D': 'Asp',\n",
       " 'C': 'Cys',\n",
       " 'Q': 'Gln',\n",
       " 'E': 'Glu',\n",
       " 'G': 'Gly',\n",
       " 'H': 'His',\n",
       " 'I': 'Ile',\n",
       " 'L': 'Leu',\n",
       " 'K': 'Lys',\n",
       " 'M': 'Met',\n",
       " 'F': 'Phe',\n",
       " 'P': 'Pro',\n",
       " 'S': 'Ser',\n",
       " 'T': 'Thr',\n",
       " 'W': 'Trp',\n",
       " 'Y': 'Tyr',\n",
       " 'V': 'Val'}"
      ]
     },
     "execution_count": 32,
     "metadata": {},
     "output_type": "execute_result"
    }
   ],
   "source": [
    "bootcamp_utils.aa"
   ]
  },
  {
   "cell_type": "code",
   "execution_count": null,
   "metadata": {},
   "outputs": [],
   "source": []
  }
 ],
 "metadata": {
  "kernelspec": {
   "display_name": "Python 3",
   "language": "python",
   "name": "python3"
  },
  "language_info": {
   "codemirror_mode": {
    "name": "ipython",
    "version": 3
   },
   "file_extension": ".py",
   "mimetype": "text/x-python",
   "name": "python",
   "nbconvert_exporter": "python",
   "pygments_lexer": "ipython3",
   "version": "3.7.3"
  }
 },
 "nbformat": 4,
 "nbformat_minor": 2
}
